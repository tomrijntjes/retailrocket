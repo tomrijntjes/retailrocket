{
 "cells": [
  {
   "cell_type": "code",
   "execution_count": 33,
   "metadata": {},
   "outputs": [],
   "source": [
    "from src.config import spark, read_table\n",
    "\n",
    "df = read_table(\"events\")"
   ]
  },
  {
   "cell_type": "code",
   "execution_count": 47,
   "metadata": {},
   "outputs": [
    {
     "data": {
      "text/plain": [
       "[Row(timestamp=1433221332117, visitorid=257597, event='view', itemid=355908, transactionid=None, timestamp_seconds=1433221332.117, date=datetime.date(2015, 6, 2), week='23'),\n",
       " Row(timestamp=1433224214164, visitorid=992329, event='view', itemid=248676, transactionid=None, timestamp_seconds=1433224214.164, date=datetime.date(2015, 6, 2), week='23'),\n",
       " Row(timestamp=1433221999827, visitorid=111016, event='view', itemid=318965, transactionid=None, timestamp_seconds=1433221999.827, date=datetime.date(2015, 6, 2), week='23'),\n",
       " Row(timestamp=1433221955914, visitorid=483717, event='view', itemid=253185, transactionid=None, timestamp_seconds=1433221955.914, date=datetime.date(2015, 6, 2), week='23'),\n",
       " Row(timestamp=1433221337106, visitorid=951259, event='view', itemid=367447, transactionid=None, timestamp_seconds=1433221337.106, date=datetime.date(2015, 6, 2), week='23')]"
      ]
     },
     "execution_count": 47,
     "metadata": {},
     "output_type": "execute_result"
    }
   ],
   "source": [
    "df.head(n=5)"
   ]
  },
  {
   "cell_type": "code",
   "execution_count": 34,
   "metadata": {},
   "outputs": [],
   "source": [
    "from pyspark.sql.functions import to_date, from_unixtime, col, date_format\n",
    "\n",
    "\n",
    "df = df.withColumn(\"timestamp_seconds\", col(\"timestamp\")/1000)\n",
    "\n",
    "#df.select(from_unixtime(\"timestamp_seconds\")).show()\n",
    "\n",
    "df = df.withColumn(\"date\", to_date(from_unixtime(\"timestamp_seconds\")))\n",
    "df = df.withColumn(\"week\", date_format(to_date(from_unixtime(\"timestamp_seconds\")),\"w\"))\n",
    "\n",
    "#date_format(to_date(\"date\", \"dd/MMM/yyyy\"), \"w\")"
   ]
  },
  {
   "cell_type": "code",
   "execution_count": 57,
   "metadata": {},
   "outputs": [],
   "source": [
    "grouped = df.where(df.event == \"view\").groupby(\"week\", \"visitorid\").count().select(\"week\", \"visitorid\", col('count').alias('n'))"
   ]
  },
  {
   "cell_type": "code",
   "execution_count": 63,
   "metadata": {},
   "outputs": [],
   "source": [
    "\"\"\"weekly top five visitors. Look at windowing functions (iterate over groups, eg top users)\"\"\"\n",
    "from pyspark.sql.window import Window\n",
    "from pyspark.sql.functions import dense_rank, desc\n",
    "grouped_ranked = grouped.withColumn(\"rank\", dense_rank().over(Window.partitionBy(\"week\").orderBy(desc(\"n\"))))\n",
    "top_five_customers = grouped_ranked.where(col(\"rank\")<6).orderBy(asc(\"week\"), asc(\"rank\"))"
   ]
  },
  {
   "cell_type": "code",
   "execution_count": 68,
   "metadata": {},
   "outputs": [
    {
     "name": "stdout",
     "output_type": "stream",
     "text": [
      "+----+---------+---+----+\n",
      "|week|visitorid|  n|rank|\n",
      "+----+---------+---+----+\n",
      "|  38|  1150086|196|   5|\n",
      "|  38|   198270|219|   4|\n",
      "|  38|   994820|265|   3|\n",
      "|  38|   152963|280|   2|\n",
      "|  38|   565978|440|   1|\n",
      "|  37|  1150086|389|   5|\n",
      "|  37|   971454|426|   4|\n",
      "|  37|   152963|436|   3|\n",
      "|  37|   994820|453|   2|\n",
      "|  37|   198270|522|   1|\n",
      "|  36|   530559|316|   5|\n",
      "|  36|  1150086|340|   4|\n",
      "|  36|   737053|378|   3|\n",
      "|  36|   994820|460|   2|\n",
      "|  36|    79627|483|   1|\n",
      "|  35|   247235|290|   5|\n",
      "|  35|   994820|293|   4|\n",
      "|  35|   152963|313|   3|\n",
      "|  35|    79627|387|   2|\n",
      "|  35|   645525|570|   1|\n",
      "+----+---------+---+----+\n",
      "only showing top 20 rows\n",
      "\n"
     ]
    }
   ],
   "source": [
    "grouped_ranked.where(col(\"rank\")<6).orderBy(asc(\"week\"), asc(\"rank\")).show()"
   ]
  },
  {
   "cell_type": "code",
   "execution_count": null,
   "metadata": {},
   "outputs": [],
   "source": []
  }
 ],
 "metadata": {
  "kernelspec": {
   "display_name": "Python 3",
   "language": "python",
   "name": "python3"
  },
  "language_info": {
   "codemirror_mode": {
    "name": "ipython",
    "version": 3
   },
   "file_extension": ".py",
   "mimetype": "text/x-python",
   "name": "python",
   "nbconvert_exporter": "python",
   "pygments_lexer": "ipython3",
   "version": "3.7.3"
  }
 },
 "nbformat": 4,
 "nbformat_minor": 2
}
