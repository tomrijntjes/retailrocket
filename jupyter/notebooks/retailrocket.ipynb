{
 "cells": [
  {
   "cell_type": "code",
   "execution_count": 1,
   "metadata": {},
   "outputs": [
    {
     "name": "stdout",
     "output_type": "stream",
     "text": [
      "+----------+--------+\n",
      "|categoryid|parentid|\n",
      "+----------+--------+\n",
      "|      1016|     213|\n",
      "|       809|     169|\n",
      "|       570|       9|\n",
      "|      1691|     885|\n",
      "|       536|    1691|\n",
      "|       231|    null|\n",
      "|       542|     378|\n",
      "|      1146|     542|\n",
      "|      1140|     542|\n",
      "|      1479|    1537|\n",
      "|        83|    1621|\n",
      "|       688|     893|\n",
      "|       257|     312|\n",
      "|      1640|     622|\n",
      "|       963|    1281|\n",
      "|       412|    1110|\n",
      "|       948|    1110|\n",
      "|       934|    1110|\n",
      "|       148|    1110|\n",
      "|        12|    1110|\n",
      "+----------+--------+\n",
      "only showing top 20 rows\n",
      "\n"
     ]
    }
   ],
   "source": [
    "import os\n",
    "\n",
    "os.environ['PYSPARK_SUBMIT_ARGS'] = '--jars /home/jovyan/postgresql-42.2.8.jar pyspark-shell'\n",
    "\n",
    "from pyspark.sql import SparkSession\n",
    "\n",
    "spark = SparkSession.builder.appName(\"retailrocket\").getOrCreate()\n",
    "\n",
    "url = \"jdbc:postgresql://db/postgres\"\n",
    "properties = {\n",
    "    \"driver\": \"org.postgresql.Driver\",\n",
    "    \"user\": \"postgres\",\n",
    "    \"password\": \"retailrocket\"\n",
    "}\n",
    "\n",
    "df = spark.read.jdbc(url=url,\\\n",
    "    table=\"category_tree\", \\\n",
    "    properties=properties)\n",
    "df.show()"
   ]
  },
  {
   "cell_type": "code",
   "execution_count": null,
   "metadata": {},
   "outputs": [],
   "source": []
  }
 ],
 "metadata": {
  "kernelspec": {
   "display_name": "Python 3",
   "language": "python",
   "name": "python3"
  },
  "language_info": {
   "codemirror_mode": {
    "name": "ipython",
    "version": 3
   },
   "file_extension": ".py",
   "mimetype": "text/x-python",
   "name": "python",
   "nbconvert_exporter": "python",
   "pygments_lexer": "ipython3",
   "version": "3.7.3"
  }
 },
 "nbformat": 4,
 "nbformat_minor": 2
}
